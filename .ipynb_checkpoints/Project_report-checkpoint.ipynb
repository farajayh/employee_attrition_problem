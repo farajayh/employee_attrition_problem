{
 "cells": [
  {
   "cell_type": "markdown",
   "metadata": {},
   "source": [
    "# Hash Analytic Project Report\n",
    "## Employee Attrition Problem\n",
    "### Problem Questions: \n",
    "* What type of employees are leaving\n",
    "* Determine the employees that are prone to leave next\n",
    "* Predict future employee who will tend to leave the company"
   ]
  },
  {
   "cell_type": "markdown",
   "metadata": {},
   "source": [
    "## Overview of the Dataset"
   ]
  },
  {
   "cell_type": "markdown",
   "metadata": {},
   "source": [
    "The dataset contains data of existing employees in one sheet and data of employees who have left in another sheet.\n",
    "Both sheets contain 10 columns which are listed below:\n",
    "* Emp ID\n",
    "* satisfaction_level\n",
    "* last_evaluation\n",
    "* number_project\n",
    "* average_monthly_hours\n",
    "* time_spend_company\n",
    "* work accident\n",
    "* promotion\n",
    "* dept\n",
    "* salary\n",
    "\n",
    "The existing employees sheet has 11428 entries and the employees who have left sheet has 3571 entries."
   ]
  },
  {
   "cell_type": "markdown",
   "metadata": {},
   "source": [
    "## Exploratory data analysis of employees who left and existing employees"
   ]
  },
  {
   "cell_type": "code",
   "execution_count": 1,
   "metadata": {
    "collapsed": false
   },
   "outputs": [
    {
     "name": "stdout",
     "output_type": "stream",
     "text": [
      "\n",
      " Information of the data of employees who left including data type \n",
      "\n",
      "<class 'pandas.core.frame.DataFrame'>\n",
      "RangeIndex: 3571 entries, 0 to 3570\n",
      "Data columns (total 10 columns):\n",
      "Emp ID                   3571 non-null int64\n",
      "satisfaction_level       3571 non-null float64\n",
      "last_evaluation          3571 non-null float64\n",
      "number_project           3571 non-null int64\n",
      "average_montly_hours     3571 non-null int64\n",
      "time_spend_company       3571 non-null int64\n",
      "Work_accident            3571 non-null int64\n",
      "promotion_last_5years    3571 non-null int64\n",
      "dept                     3571 non-null object\n",
      "salary                   3571 non-null object\n",
      "dtypes: float64(2), int64(6), object(2)\n",
      "memory usage: 279.1+ KB\n"
     ]
    }
   ],
   "source": [
    "#importing libraries\n",
    "import numpy as np\n",
    "import pandas as pd\n",
    "import matplotlib.pyplot as plt\n",
    "import seaborn as sn\n",
    "%matplotlib inline\n",
    "\n",
    "#importing dataset\n",
    "employees_data =  pd.ExcelFile('employees_data.xlsx')\n",
    "\n",
    "#creating dataframe\n",
    "employees_left = pd.read_excel(employees_data, 'Employees who have left')\n",
    "existing_employees = pd.read_excel(employees_data, 'Existing employees')\n",
    "\n",
    "print('\\n Information of the data of employees who left including data type \\n')\n",
    "employees_left.info()"
   ]
  },
  {
   "cell_type": "code",
   "execution_count": 2,
   "metadata": {
    "collapsed": false
   },
   "outputs": [
    {
     "name": "stdout",
     "output_type": "stream",
     "text": [
      "\n",
      " Information of the data of existing employees including data type \n",
      "\n",
      "<class 'pandas.core.frame.DataFrame'>\n",
      "RangeIndex: 11428 entries, 0 to 11427\n",
      "Data columns (total 10 columns):\n",
      "Emp ID                   11428 non-null int64\n",
      "satisfaction_level       11428 non-null float64\n",
      "last_evaluation          11428 non-null float64\n",
      "number_project           11428 non-null int64\n",
      "average_montly_hours     11428 non-null int64\n",
      "time_spend_company       11428 non-null int64\n",
      "Work_accident            11428 non-null int64\n",
      "promotion_last_5years    11428 non-null int64\n",
      "dept                     11428 non-null object\n",
      "salary                   11428 non-null object\n",
      "dtypes: float64(2), int64(6), object(2)\n",
      "memory usage: 892.9+ KB\n"
     ]
    }
   ],
   "source": [
    "print('\\n Information of the data of existing employees including data type \\n')\n",
    "existing_employees.info()"
   ]
  },
  {
   "cell_type": "code",
   "execution_count": 3,
   "metadata": {
    "collapsed": false
   },
   "outputs": [
    {
     "name": "stdout",
     "output_type": "stream",
     "text": [
      "\n",
      "Sample data of employees who left\n",
      "\n"
     ]
    },
    {
     "data": {
      "text/html": [
       "<div>\n",
       "<style scoped>\n",
       "    .dataframe tbody tr th:only-of-type {\n",
       "        vertical-align: middle;\n",
       "    }\n",
       "\n",
       "    .dataframe tbody tr th {\n",
       "        vertical-align: top;\n",
       "    }\n",
       "\n",
       "    .dataframe thead th {\n",
       "        text-align: right;\n",
       "    }\n",
       "</style>\n",
       "<table border=\"1\" class=\"dataframe\">\n",
       "  <thead>\n",
       "    <tr style=\"text-align: right;\">\n",
       "      <th></th>\n",
       "      <th>Emp ID</th>\n",
       "      <th>satisfaction_level</th>\n",
       "      <th>last_evaluation</th>\n",
       "      <th>number_project</th>\n",
       "      <th>average_montly_hours</th>\n",
       "      <th>time_spend_company</th>\n",
       "      <th>Work_accident</th>\n",
       "      <th>promotion_last_5years</th>\n",
       "      <th>dept</th>\n",
       "      <th>salary</th>\n",
       "    </tr>\n",
       "  </thead>\n",
       "  <tbody>\n",
       "    <tr>\n",
       "      <th>0</th>\n",
       "      <td>1</td>\n",
       "      <td>0.38</td>\n",
       "      <td>0.53</td>\n",
       "      <td>2</td>\n",
       "      <td>157</td>\n",
       "      <td>3</td>\n",
       "      <td>0</td>\n",
       "      <td>0</td>\n",
       "      <td>sales</td>\n",
       "      <td>low</td>\n",
       "    </tr>\n",
       "    <tr>\n",
       "      <th>1</th>\n",
       "      <td>2</td>\n",
       "      <td>0.80</td>\n",
       "      <td>0.86</td>\n",
       "      <td>5</td>\n",
       "      <td>262</td>\n",
       "      <td>6</td>\n",
       "      <td>0</td>\n",
       "      <td>0</td>\n",
       "      <td>sales</td>\n",
       "      <td>medium</td>\n",
       "    </tr>\n",
       "    <tr>\n",
       "      <th>2</th>\n",
       "      <td>3</td>\n",
       "      <td>0.11</td>\n",
       "      <td>0.88</td>\n",
       "      <td>7</td>\n",
       "      <td>272</td>\n",
       "      <td>4</td>\n",
       "      <td>0</td>\n",
       "      <td>0</td>\n",
       "      <td>sales</td>\n",
       "      <td>medium</td>\n",
       "    </tr>\n",
       "    <tr>\n",
       "      <th>3</th>\n",
       "      <td>4</td>\n",
       "      <td>0.72</td>\n",
       "      <td>0.87</td>\n",
       "      <td>5</td>\n",
       "      <td>223</td>\n",
       "      <td>5</td>\n",
       "      <td>0</td>\n",
       "      <td>0</td>\n",
       "      <td>sales</td>\n",
       "      <td>low</td>\n",
       "    </tr>\n",
       "    <tr>\n",
       "      <th>4</th>\n",
       "      <td>5</td>\n",
       "      <td>0.37</td>\n",
       "      <td>0.52</td>\n",
       "      <td>2</td>\n",
       "      <td>159</td>\n",
       "      <td>3</td>\n",
       "      <td>0</td>\n",
       "      <td>0</td>\n",
       "      <td>sales</td>\n",
       "      <td>low</td>\n",
       "    </tr>\n",
       "  </tbody>\n",
       "</table>\n",
       "</div>"
      ],
      "text/plain": [
       "   Emp ID  satisfaction_level  last_evaluation  number_project  \\\n",
       "0       1                0.38             0.53               2   \n",
       "1       2                0.80             0.86               5   \n",
       "2       3                0.11             0.88               7   \n",
       "3       4                0.72             0.87               5   \n",
       "4       5                0.37             0.52               2   \n",
       "\n",
       "   average_montly_hours  time_spend_company  Work_accident  \\\n",
       "0                   157                   3              0   \n",
       "1                   262                   6              0   \n",
       "2                   272                   4              0   \n",
       "3                   223                   5              0   \n",
       "4                   159                   3              0   \n",
       "\n",
       "   promotion_last_5years   dept  salary  \n",
       "0                      0  sales     low  \n",
       "1                      0  sales  medium  \n",
       "2                      0  sales  medium  \n",
       "3                      0  sales     low  \n",
       "4                      0  sales     low  "
      ]
     },
     "execution_count": 3,
     "metadata": {},
     "output_type": "execute_result"
    }
   ],
   "source": [
    "print('\\nSample data of employees who left\\n')\n",
    "employees_left.head()"
   ]
  },
  {
   "cell_type": "code",
   "execution_count": 4,
   "metadata": {
    "collapsed": false
   },
   "outputs": [
    {
     "name": "stdout",
     "output_type": "stream",
     "text": [
      "\n",
      "Sample data of existing employees\n",
      "\n"
     ]
    },
    {
     "data": {
      "text/html": [
       "<div>\n",
       "<style scoped>\n",
       "    .dataframe tbody tr th:only-of-type {\n",
       "        vertical-align: middle;\n",
       "    }\n",
       "\n",
       "    .dataframe tbody tr th {\n",
       "        vertical-align: top;\n",
       "    }\n",
       "\n",
       "    .dataframe thead th {\n",
       "        text-align: right;\n",
       "    }\n",
       "</style>\n",
       "<table border=\"1\" class=\"dataframe\">\n",
       "  <thead>\n",
       "    <tr style=\"text-align: right;\">\n",
       "      <th></th>\n",
       "      <th>Emp ID</th>\n",
       "      <th>satisfaction_level</th>\n",
       "      <th>last_evaluation</th>\n",
       "      <th>number_project</th>\n",
       "      <th>average_montly_hours</th>\n",
       "      <th>time_spend_company</th>\n",
       "      <th>Work_accident</th>\n",
       "      <th>promotion_last_5years</th>\n",
       "      <th>dept</th>\n",
       "      <th>salary</th>\n",
       "    </tr>\n",
       "  </thead>\n",
       "  <tbody>\n",
       "    <tr>\n",
       "      <th>0</th>\n",
       "      <td>2001</td>\n",
       "      <td>0.58</td>\n",
       "      <td>0.74</td>\n",
       "      <td>4</td>\n",
       "      <td>215</td>\n",
       "      <td>3</td>\n",
       "      <td>0</td>\n",
       "      <td>0</td>\n",
       "      <td>sales</td>\n",
       "      <td>low</td>\n",
       "    </tr>\n",
       "    <tr>\n",
       "      <th>1</th>\n",
       "      <td>2002</td>\n",
       "      <td>0.82</td>\n",
       "      <td>0.67</td>\n",
       "      <td>2</td>\n",
       "      <td>202</td>\n",
       "      <td>3</td>\n",
       "      <td>0</td>\n",
       "      <td>0</td>\n",
       "      <td>sales</td>\n",
       "      <td>low</td>\n",
       "    </tr>\n",
       "    <tr>\n",
       "      <th>2</th>\n",
       "      <td>2003</td>\n",
       "      <td>0.45</td>\n",
       "      <td>0.69</td>\n",
       "      <td>5</td>\n",
       "      <td>193</td>\n",
       "      <td>3</td>\n",
       "      <td>0</td>\n",
       "      <td>0</td>\n",
       "      <td>sales</td>\n",
       "      <td>low</td>\n",
       "    </tr>\n",
       "    <tr>\n",
       "      <th>3</th>\n",
       "      <td>2004</td>\n",
       "      <td>0.78</td>\n",
       "      <td>0.82</td>\n",
       "      <td>5</td>\n",
       "      <td>247</td>\n",
       "      <td>3</td>\n",
       "      <td>0</td>\n",
       "      <td>0</td>\n",
       "      <td>sales</td>\n",
       "      <td>low</td>\n",
       "    </tr>\n",
       "    <tr>\n",
       "      <th>4</th>\n",
       "      <td>2005</td>\n",
       "      <td>0.49</td>\n",
       "      <td>0.60</td>\n",
       "      <td>3</td>\n",
       "      <td>214</td>\n",
       "      <td>2</td>\n",
       "      <td>0</td>\n",
       "      <td>0</td>\n",
       "      <td>sales</td>\n",
       "      <td>low</td>\n",
       "    </tr>\n",
       "  </tbody>\n",
       "</table>\n",
       "</div>"
      ],
      "text/plain": [
       "   Emp ID  satisfaction_level  last_evaluation  number_project  \\\n",
       "0    2001                0.58             0.74               4   \n",
       "1    2002                0.82             0.67               2   \n",
       "2    2003                0.45             0.69               5   \n",
       "3    2004                0.78             0.82               5   \n",
       "4    2005                0.49             0.60               3   \n",
       "\n",
       "   average_montly_hours  time_spend_company  Work_accident  \\\n",
       "0                   215                   3              0   \n",
       "1                   202                   3              0   \n",
       "2                   193                   3              0   \n",
       "3                   247                   3              0   \n",
       "4                   214                   2              0   \n",
       "\n",
       "   promotion_last_5years   dept salary  \n",
       "0                      0  sales    low  \n",
       "1                      0  sales    low  \n",
       "2                      0  sales    low  \n",
       "3                      0  sales    low  \n",
       "4                      0  sales    low  "
      ]
     },
     "execution_count": 4,
     "metadata": {},
     "output_type": "execute_result"
    }
   ],
   "source": [
    "print('\\nSample data of existing employees\\n')\n",
    "existing_employees.head()"
   ]
  },
  {
   "cell_type": "code",
   "execution_count": 5,
   "metadata": {
    "collapsed": false
   },
   "outputs": [
    {
     "name": "stdout",
     "output_type": "stream",
     "text": [
      "\n",
      "Statistics of employees who have left\n",
      "\n"
     ]
    },
    {
     "data": {
      "text/html": [
       "<div>\n",
       "<style scoped>\n",
       "    .dataframe tbody tr th:only-of-type {\n",
       "        vertical-align: middle;\n",
       "    }\n",
       "\n",
       "    .dataframe tbody tr th {\n",
       "        vertical-align: top;\n",
       "    }\n",
       "\n",
       "    .dataframe thead th {\n",
       "        text-align: right;\n",
       "    }\n",
       "</style>\n",
       "<table border=\"1\" class=\"dataframe\">\n",
       "  <thead>\n",
       "    <tr style=\"text-align: right;\">\n",
       "      <th></th>\n",
       "      <th>satisfaction_level</th>\n",
       "      <th>last_evaluation</th>\n",
       "      <th>number_project</th>\n",
       "      <th>average_montly_hours</th>\n",
       "      <th>time_spend_company</th>\n",
       "      <th>Work_accident</th>\n",
       "      <th>promotion_last_5years</th>\n",
       "    </tr>\n",
       "  </thead>\n",
       "  <tbody>\n",
       "    <tr>\n",
       "      <th>count</th>\n",
       "      <td>3571.000000</td>\n",
       "      <td>3571.000000</td>\n",
       "      <td>3571.000000</td>\n",
       "      <td>3571.000000</td>\n",
       "      <td>3571.000000</td>\n",
       "      <td>3571.000000</td>\n",
       "      <td>3571.000000</td>\n",
       "    </tr>\n",
       "    <tr>\n",
       "      <th>mean</th>\n",
       "      <td>0.440098</td>\n",
       "      <td>0.718113</td>\n",
       "      <td>3.855503</td>\n",
       "      <td>207.419210</td>\n",
       "      <td>3.876505</td>\n",
       "      <td>0.047326</td>\n",
       "      <td>0.005321</td>\n",
       "    </tr>\n",
       "    <tr>\n",
       "      <th>std</th>\n",
       "      <td>0.263933</td>\n",
       "      <td>0.197673</td>\n",
       "      <td>1.818165</td>\n",
       "      <td>61.202825</td>\n",
       "      <td>0.977698</td>\n",
       "      <td>0.212364</td>\n",
       "      <td>0.072759</td>\n",
       "    </tr>\n",
       "    <tr>\n",
       "      <th>min</th>\n",
       "      <td>0.090000</td>\n",
       "      <td>0.450000</td>\n",
       "      <td>2.000000</td>\n",
       "      <td>126.000000</td>\n",
       "      <td>2.000000</td>\n",
       "      <td>0.000000</td>\n",
       "      <td>0.000000</td>\n",
       "    </tr>\n",
       "    <tr>\n",
       "      <th>25%</th>\n",
       "      <td>0.130000</td>\n",
       "      <td>0.520000</td>\n",
       "      <td>2.000000</td>\n",
       "      <td>146.000000</td>\n",
       "      <td>3.000000</td>\n",
       "      <td>0.000000</td>\n",
       "      <td>0.000000</td>\n",
       "    </tr>\n",
       "    <tr>\n",
       "      <th>50%</th>\n",
       "      <td>0.410000</td>\n",
       "      <td>0.790000</td>\n",
       "      <td>4.000000</td>\n",
       "      <td>224.000000</td>\n",
       "      <td>4.000000</td>\n",
       "      <td>0.000000</td>\n",
       "      <td>0.000000</td>\n",
       "    </tr>\n",
       "    <tr>\n",
       "      <th>75%</th>\n",
       "      <td>0.730000</td>\n",
       "      <td>0.900000</td>\n",
       "      <td>6.000000</td>\n",
       "      <td>262.000000</td>\n",
       "      <td>5.000000</td>\n",
       "      <td>0.000000</td>\n",
       "      <td>0.000000</td>\n",
       "    </tr>\n",
       "    <tr>\n",
       "      <th>max</th>\n",
       "      <td>0.920000</td>\n",
       "      <td>1.000000</td>\n",
       "      <td>7.000000</td>\n",
       "      <td>310.000000</td>\n",
       "      <td>6.000000</td>\n",
       "      <td>1.000000</td>\n",
       "      <td>1.000000</td>\n",
       "    </tr>\n",
       "  </tbody>\n",
       "</table>\n",
       "</div>"
      ],
      "text/plain": [
       "       satisfaction_level  last_evaluation  number_project  \\\n",
       "count         3571.000000      3571.000000     3571.000000   \n",
       "mean             0.440098         0.718113        3.855503   \n",
       "std              0.263933         0.197673        1.818165   \n",
       "min              0.090000         0.450000        2.000000   \n",
       "25%              0.130000         0.520000        2.000000   \n",
       "50%              0.410000         0.790000        4.000000   \n",
       "75%              0.730000         0.900000        6.000000   \n",
       "max              0.920000         1.000000        7.000000   \n",
       "\n",
       "       average_montly_hours  time_spend_company  Work_accident  \\\n",
       "count           3571.000000         3571.000000    3571.000000   \n",
       "mean             207.419210            3.876505       0.047326   \n",
       "std               61.202825            0.977698       0.212364   \n",
       "min              126.000000            2.000000       0.000000   \n",
       "25%              146.000000            3.000000       0.000000   \n",
       "50%              224.000000            4.000000       0.000000   \n",
       "75%              262.000000            5.000000       0.000000   \n",
       "max              310.000000            6.000000       1.000000   \n",
       "\n",
       "       promotion_last_5years  \n",
       "count            3571.000000  \n",
       "mean                0.005321  \n",
       "std                 0.072759  \n",
       "min                 0.000000  \n",
       "25%                 0.000000  \n",
       "50%                 0.000000  \n",
       "75%                 0.000000  \n",
       "max                 1.000000  "
      ]
     },
     "execution_count": 5,
     "metadata": {},
     "output_type": "execute_result"
    }
   ],
   "source": [
    "print('\\nStatistics of employees who have left\\n')\n",
    "employees_left1 = employees_left.drop(columns = ['Emp ID']) #drop unneccessary column\n",
    "employees_left1.describe()"
   ]
  },
  {
   "cell_type": "code",
   "execution_count": 6,
   "metadata": {
    "collapsed": false
   },
   "outputs": [
    {
     "name": "stdout",
     "output_type": "stream",
     "text": [
      "\n",
      "Statistics of existing employees\n",
      "\n"
     ]
    },
    {
     "data": {
      "text/html": [
       "<div>\n",
       "<style scoped>\n",
       "    .dataframe tbody tr th:only-of-type {\n",
       "        vertical-align: middle;\n",
       "    }\n",
       "\n",
       "    .dataframe tbody tr th {\n",
       "        vertical-align: top;\n",
       "    }\n",
       "\n",
       "    .dataframe thead th {\n",
       "        text-align: right;\n",
       "    }\n",
       "</style>\n",
       "<table border=\"1\" class=\"dataframe\">\n",
       "  <thead>\n",
       "    <tr style=\"text-align: right;\">\n",
       "      <th></th>\n",
       "      <th>satisfaction_level</th>\n",
       "      <th>last_evaluation</th>\n",
       "      <th>number_project</th>\n",
       "      <th>average_montly_hours</th>\n",
       "      <th>time_spend_company</th>\n",
       "      <th>Work_accident</th>\n",
       "      <th>promotion_last_5years</th>\n",
       "    </tr>\n",
       "  </thead>\n",
       "  <tbody>\n",
       "    <tr>\n",
       "      <th>count</th>\n",
       "      <td>11428.000000</td>\n",
       "      <td>11428.000000</td>\n",
       "      <td>11428.000000</td>\n",
       "      <td>11428.000000</td>\n",
       "      <td>11428.000000</td>\n",
       "      <td>11428.000000</td>\n",
       "      <td>11428.000000</td>\n",
       "    </tr>\n",
       "    <tr>\n",
       "      <th>mean</th>\n",
       "      <td>0.666810</td>\n",
       "      <td>0.715473</td>\n",
       "      <td>3.786664</td>\n",
       "      <td>199.060203</td>\n",
       "      <td>3.380032</td>\n",
       "      <td>0.175009</td>\n",
       "      <td>0.026251</td>\n",
       "    </tr>\n",
       "    <tr>\n",
       "      <th>std</th>\n",
       "      <td>0.217104</td>\n",
       "      <td>0.162005</td>\n",
       "      <td>0.979884</td>\n",
       "      <td>45.682731</td>\n",
       "      <td>1.562348</td>\n",
       "      <td>0.379991</td>\n",
       "      <td>0.159889</td>\n",
       "    </tr>\n",
       "    <tr>\n",
       "      <th>min</th>\n",
       "      <td>0.120000</td>\n",
       "      <td>0.360000</td>\n",
       "      <td>2.000000</td>\n",
       "      <td>96.000000</td>\n",
       "      <td>2.000000</td>\n",
       "      <td>0.000000</td>\n",
       "      <td>0.000000</td>\n",
       "    </tr>\n",
       "    <tr>\n",
       "      <th>25%</th>\n",
       "      <td>0.540000</td>\n",
       "      <td>0.580000</td>\n",
       "      <td>3.000000</td>\n",
       "      <td>162.000000</td>\n",
       "      <td>2.000000</td>\n",
       "      <td>0.000000</td>\n",
       "      <td>0.000000</td>\n",
       "    </tr>\n",
       "    <tr>\n",
       "      <th>50%</th>\n",
       "      <td>0.690000</td>\n",
       "      <td>0.710000</td>\n",
       "      <td>4.000000</td>\n",
       "      <td>198.000000</td>\n",
       "      <td>3.000000</td>\n",
       "      <td>0.000000</td>\n",
       "      <td>0.000000</td>\n",
       "    </tr>\n",
       "    <tr>\n",
       "      <th>75%</th>\n",
       "      <td>0.840000</td>\n",
       "      <td>0.850000</td>\n",
       "      <td>4.000000</td>\n",
       "      <td>238.000000</td>\n",
       "      <td>4.000000</td>\n",
       "      <td>0.000000</td>\n",
       "      <td>0.000000</td>\n",
       "    </tr>\n",
       "    <tr>\n",
       "      <th>max</th>\n",
       "      <td>1.000000</td>\n",
       "      <td>1.000000</td>\n",
       "      <td>6.000000</td>\n",
       "      <td>287.000000</td>\n",
       "      <td>10.000000</td>\n",
       "      <td>1.000000</td>\n",
       "      <td>1.000000</td>\n",
       "    </tr>\n",
       "  </tbody>\n",
       "</table>\n",
       "</div>"
      ],
      "text/plain": [
       "       satisfaction_level  last_evaluation  number_project  \\\n",
       "count        11428.000000     11428.000000    11428.000000   \n",
       "mean             0.666810         0.715473        3.786664   \n",
       "std              0.217104         0.162005        0.979884   \n",
       "min              0.120000         0.360000        2.000000   \n",
       "25%              0.540000         0.580000        3.000000   \n",
       "50%              0.690000         0.710000        4.000000   \n",
       "75%              0.840000         0.850000        4.000000   \n",
       "max              1.000000         1.000000        6.000000   \n",
       "\n",
       "       average_montly_hours  time_spend_company  Work_accident  \\\n",
       "count          11428.000000        11428.000000   11428.000000   \n",
       "mean             199.060203            3.380032       0.175009   \n",
       "std               45.682731            1.562348       0.379991   \n",
       "min               96.000000            2.000000       0.000000   \n",
       "25%              162.000000            2.000000       0.000000   \n",
       "50%              198.000000            3.000000       0.000000   \n",
       "75%              238.000000            4.000000       0.000000   \n",
       "max              287.000000           10.000000       1.000000   \n",
       "\n",
       "       promotion_last_5years  \n",
       "count           11428.000000  \n",
       "mean                0.026251  \n",
       "std                 0.159889  \n",
       "min                 0.000000  \n",
       "25%                 0.000000  \n",
       "50%                 0.000000  \n",
       "75%                 0.000000  \n",
       "max                 1.000000  "
      ]
     },
     "execution_count": 6,
     "metadata": {},
     "output_type": "execute_result"
    }
   ],
   "source": [
    "print('\\nStatistics of existing employees\\n')\n",
    "existing_employees1 = existing_employees.drop(columns = ['Emp ID']) #drop unneccessary column\n",
    "\n",
    "existing_employees1.describe()"
   ]
  },
  {
   "cell_type": "code",
   "execution_count": 7,
   "metadata": {
    "collapsed": false
   },
   "outputs": [
    {
     "name": "stdout",
     "output_type": "stream",
     "text": [
      "\n",
      "Number of employees who left from each department\n",
      "\n"
     ]
    },
    {
     "data": {
      "text/plain": [
       "sales          1014\n",
       "technical       697\n",
       "support         555\n",
       "IT              273\n",
       "hr              215\n",
       "accounting      204\n",
       "marketing       203\n",
       "product_mng     198\n",
       "RandD           121\n",
       "management       91\n",
       "Name: dept, dtype: int64"
      ]
     },
     "execution_count": 7,
     "metadata": {},
     "output_type": "execute_result"
    }
   ],
   "source": [
    "department = employees_left['dept']\n",
    "print('\\nNumber of employees who left from each department\\n')\n",
    "department.value_counts()"
   ]
  },
  {
   "cell_type": "code",
   "execution_count": 8,
   "metadata": {
    "collapsed": false
   },
   "outputs": [
    {
     "name": "stdout",
     "output_type": "stream",
     "text": [
      "\n",
      " Mean value of each column by department for employees who left\n",
      "\n"
     ]
    },
    {
     "data": {
      "text/html": [
       "<div>\n",
       "<style scoped>\n",
       "    .dataframe tbody tr th:only-of-type {\n",
       "        vertical-align: middle;\n",
       "    }\n",
       "\n",
       "    .dataframe tbody tr th {\n",
       "        vertical-align: top;\n",
       "    }\n",
       "\n",
       "    .dataframe thead th {\n",
       "        text-align: right;\n",
       "    }\n",
       "</style>\n",
       "<table border=\"1\" class=\"dataframe\">\n",
       "  <thead>\n",
       "    <tr style=\"text-align: right;\">\n",
       "      <th></th>\n",
       "      <th>satisfaction_level</th>\n",
       "      <th>last_evaluation</th>\n",
       "      <th>number_project</th>\n",
       "      <th>average_montly_hours</th>\n",
       "      <th>time_spend_company</th>\n",
       "      <th>Work_accident</th>\n",
       "      <th>promotion_last_5years</th>\n",
       "    </tr>\n",
       "    <tr>\n",
       "      <th>dept</th>\n",
       "      <th></th>\n",
       "      <th></th>\n",
       "      <th></th>\n",
       "      <th></th>\n",
       "      <th></th>\n",
       "      <th></th>\n",
       "      <th></th>\n",
       "    </tr>\n",
       "  </thead>\n",
       "  <tbody>\n",
       "    <tr>\n",
       "      <th>IT</th>\n",
       "      <td>0.411868</td>\n",
       "      <td>0.730037</td>\n",
       "      <td>4.025641</td>\n",
       "      <td>213.849817</td>\n",
       "      <td>3.860806</td>\n",
       "      <td>0.032967</td>\n",
       "      <td>0.010989</td>\n",
       "    </tr>\n",
       "    <tr>\n",
       "      <th>RandD</th>\n",
       "      <td>0.432810</td>\n",
       "      <td>0.745372</td>\n",
       "      <td>4.024793</td>\n",
       "      <td>210.975207</td>\n",
       "      <td>4.000000</td>\n",
       "      <td>0.082645</td>\n",
       "      <td>0.000000</td>\n",
       "    </tr>\n",
       "    <tr>\n",
       "      <th>accounting</th>\n",
       "      <td>0.402598</td>\n",
       "      <td>0.694510</td>\n",
       "      <td>3.872549</td>\n",
       "      <td>207.029412</td>\n",
       "      <td>3.794118</td>\n",
       "      <td>0.044118</td>\n",
       "      <td>0.000000</td>\n",
       "    </tr>\n",
       "    <tr>\n",
       "      <th>hr</th>\n",
       "      <td>0.433395</td>\n",
       "      <td>0.679721</td>\n",
       "      <td>3.539535</td>\n",
       "      <td>197.306977</td>\n",
       "      <td>3.753488</td>\n",
       "      <td>0.032558</td>\n",
       "      <td>0.000000</td>\n",
       "    </tr>\n",
       "    <tr>\n",
       "      <th>management</th>\n",
       "      <td>0.422857</td>\n",
       "      <td>0.727253</td>\n",
       "      <td>4.142857</td>\n",
       "      <td>207.263736</td>\n",
       "      <td>3.758242</td>\n",
       "      <td>0.054945</td>\n",
       "      <td>0.032967</td>\n",
       "    </tr>\n",
       "    <tr>\n",
       "      <th>marketing</th>\n",
       "      <td>0.453153</td>\n",
       "      <td>0.692020</td>\n",
       "      <td>3.581281</td>\n",
       "      <td>200.990148</td>\n",
       "      <td>3.857143</td>\n",
       "      <td>0.049261</td>\n",
       "      <td>0.000000</td>\n",
       "    </tr>\n",
       "    <tr>\n",
       "      <th>product_mng</th>\n",
       "      <td>0.481566</td>\n",
       "      <td>0.726566</td>\n",
       "      <td>3.848485</td>\n",
       "      <td>207.787879</td>\n",
       "      <td>3.989899</td>\n",
       "      <td>0.045455</td>\n",
       "      <td>0.000000</td>\n",
       "    </tr>\n",
       "    <tr>\n",
       "      <th>sales</th>\n",
       "      <td>0.447663</td>\n",
       "      <td>0.711243</td>\n",
       "      <td>3.736686</td>\n",
       "      <td>205.041420</td>\n",
       "      <td>3.812623</td>\n",
       "      <td>0.045365</td>\n",
       "      <td>0.006903</td>\n",
       "    </tr>\n",
       "    <tr>\n",
       "      <th>support</th>\n",
       "      <td>0.450901</td>\n",
       "      <td>0.727315</td>\n",
       "      <td>3.864865</td>\n",
       "      <td>205.636036</td>\n",
       "      <td>3.933333</td>\n",
       "      <td>0.055856</td>\n",
       "      <td>0.005405</td>\n",
       "    </tr>\n",
       "    <tr>\n",
       "      <th>technical</th>\n",
       "      <td>0.432525</td>\n",
       "      <td>0.734132</td>\n",
       "      <td>4.061693</td>\n",
       "      <td>214.183644</td>\n",
       "      <td>3.959828</td>\n",
       "      <td>0.047346</td>\n",
       "      <td>0.004304</td>\n",
       "    </tr>\n",
       "  </tbody>\n",
       "</table>\n",
       "</div>"
      ],
      "text/plain": [
       "             satisfaction_level  last_evaluation  number_project  \\\n",
       "dept                                                               \n",
       "IT                     0.411868         0.730037        4.025641   \n",
       "RandD                  0.432810         0.745372        4.024793   \n",
       "accounting             0.402598         0.694510        3.872549   \n",
       "hr                     0.433395         0.679721        3.539535   \n",
       "management             0.422857         0.727253        4.142857   \n",
       "marketing              0.453153         0.692020        3.581281   \n",
       "product_mng            0.481566         0.726566        3.848485   \n",
       "sales                  0.447663         0.711243        3.736686   \n",
       "support                0.450901         0.727315        3.864865   \n",
       "technical              0.432525         0.734132        4.061693   \n",
       "\n",
       "             average_montly_hours  time_spend_company  Work_accident  \\\n",
       "dept                                                                   \n",
       "IT                     213.849817            3.860806       0.032967   \n",
       "RandD                  210.975207            4.000000       0.082645   \n",
       "accounting             207.029412            3.794118       0.044118   \n",
       "hr                     197.306977            3.753488       0.032558   \n",
       "management             207.263736            3.758242       0.054945   \n",
       "marketing              200.990148            3.857143       0.049261   \n",
       "product_mng            207.787879            3.989899       0.045455   \n",
       "sales                  205.041420            3.812623       0.045365   \n",
       "support                205.636036            3.933333       0.055856   \n",
       "technical              214.183644            3.959828       0.047346   \n",
       "\n",
       "             promotion_last_5years  \n",
       "dept                                \n",
       "IT                        0.010989  \n",
       "RandD                     0.000000  \n",
       "accounting                0.000000  \n",
       "hr                        0.000000  \n",
       "management                0.032967  \n",
       "marketing                 0.000000  \n",
       "product_mng               0.000000  \n",
       "sales                     0.006903  \n",
       "support                   0.005405  \n",
       "technical                 0.004304  "
      ]
     },
     "execution_count": 8,
     "metadata": {},
     "output_type": "execute_result"
    }
   ],
   "source": [
    "print('\\n Mean value of each column by department for employees who left\\n')\n",
    "employees_left1.groupby('dept').mean()"
   ]
  },
  {
   "cell_type": "code",
   "execution_count": 9,
   "metadata": {
    "collapsed": false
   },
   "outputs": [
    {
     "name": "stdout",
     "output_type": "stream",
     "text": [
      "\n",
      "Number of existing employees in each department\n",
      "\n"
     ]
    },
    {
     "data": {
      "text/plain": [
       "sales          3126\n",
       "technical      2023\n",
       "support        1674\n",
       "IT              954\n",
       "product_mng     704\n",
       "RandD           666\n",
       "marketing       655\n",
       "accounting      563\n",
       "management      539\n",
       "hr              524\n",
       "Name: dept, dtype: int64"
      ]
     },
     "execution_count": 9,
     "metadata": {},
     "output_type": "execute_result"
    }
   ],
   "source": [
    "department = existing_employees['dept']\n",
    "print('\\nNumber of existing employees in each department\\n')\n",
    "department.value_counts()"
   ]
  },
  {
   "cell_type": "code",
   "execution_count": 10,
   "metadata": {
    "collapsed": false
   },
   "outputs": [
    {
     "name": "stdout",
     "output_type": "stream",
     "text": [
      "\n",
      " Mean value of each column by department for existing employees\n",
      "\n"
     ]
    },
    {
     "data": {
      "text/html": [
       "<div>\n",
       "<style scoped>\n",
       "    .dataframe tbody tr th:only-of-type {\n",
       "        vertical-align: middle;\n",
       "    }\n",
       "\n",
       "    .dataframe tbody tr th {\n",
       "        vertical-align: top;\n",
       "    }\n",
       "\n",
       "    .dataframe thead th {\n",
       "        text-align: right;\n",
       "    }\n",
       "</style>\n",
       "<table border=\"1\" class=\"dataframe\">\n",
       "  <thead>\n",
       "    <tr style=\"text-align: right;\">\n",
       "      <th></th>\n",
       "      <th>satisfaction_level</th>\n",
       "      <th>last_evaluation</th>\n",
       "      <th>number_project</th>\n",
       "      <th>average_montly_hours</th>\n",
       "      <th>time_spend_company</th>\n",
       "      <th>Work_accident</th>\n",
       "      <th>promotion_last_5years</th>\n",
       "    </tr>\n",
       "    <tr>\n",
       "      <th>dept</th>\n",
       "      <th></th>\n",
       "      <th></th>\n",
       "      <th></th>\n",
       "      <th></th>\n",
       "      <th></th>\n",
       "      <th></th>\n",
       "      <th></th>\n",
       "    </tr>\n",
       "  </thead>\n",
       "  <tbody>\n",
       "    <tr>\n",
       "      <th>IT</th>\n",
       "      <td>0.677170</td>\n",
       "      <td>0.713050</td>\n",
       "      <td>3.756813</td>\n",
       "      <td>198.886792</td>\n",
       "      <td>3.356394</td>\n",
       "      <td>0.162474</td>\n",
       "      <td>0.000000</td>\n",
       "    </tr>\n",
       "    <tr>\n",
       "      <th>RandD</th>\n",
       "      <td>0.653799</td>\n",
       "      <td>0.706081</td>\n",
       "      <td>3.822823</td>\n",
       "      <td>198.951952</td>\n",
       "      <td>3.252252</td>\n",
       "      <td>0.186186</td>\n",
       "      <td>0.040541</td>\n",
       "    </tr>\n",
       "    <tr>\n",
       "      <th>accounting</th>\n",
       "      <td>0.647211</td>\n",
       "      <td>0.726128</td>\n",
       "      <td>3.808171</td>\n",
       "      <td>199.037300</td>\n",
       "      <td>3.424512</td>\n",
       "      <td>0.154529</td>\n",
       "      <td>0.024867</td>\n",
       "    </tr>\n",
       "    <tr>\n",
       "      <th>hr</th>\n",
       "      <td>0.666679</td>\n",
       "      <td>0.720802</td>\n",
       "      <td>3.702290</td>\n",
       "      <td>199.250000</td>\n",
       "      <td>3.192748</td>\n",
       "      <td>0.156489</td>\n",
       "      <td>0.028626</td>\n",
       "    </tr>\n",
       "    <tr>\n",
       "      <th>management</th>\n",
       "      <td>0.654861</td>\n",
       "      <td>0.723451</td>\n",
       "      <td>3.812616</td>\n",
       "      <td>200.233766</td>\n",
       "      <td>4.395176</td>\n",
       "      <td>0.181818</td>\n",
       "      <td>0.122449</td>\n",
       "    </tr>\n",
       "    <tr>\n",
       "      <th>marketing</th>\n",
       "      <td>0.669878</td>\n",
       "      <td>0.723282</td>\n",
       "      <td>3.720611</td>\n",
       "      <td>198.888550</td>\n",
       "      <td>3.480916</td>\n",
       "      <td>0.195420</td>\n",
       "      <td>0.065649</td>\n",
       "    </tr>\n",
       "    <tr>\n",
       "      <th>product_mng</th>\n",
       "      <td>0.658466</td>\n",
       "      <td>0.711435</td>\n",
       "      <td>3.795455</td>\n",
       "      <td>197.765625</td>\n",
       "      <td>3.330966</td>\n",
       "      <td>0.174716</td>\n",
       "      <td>0.000000</td>\n",
       "    </tr>\n",
       "    <tr>\n",
       "      <th>sales</th>\n",
       "      <td>0.668548</td>\n",
       "      <td>0.709223</td>\n",
       "      <td>3.789187</td>\n",
       "      <td>199.571657</td>\n",
       "      <td>3.443698</td>\n",
       "      <td>0.173065</td>\n",
       "      <td>0.029750</td>\n",
       "    </tr>\n",
       "    <tr>\n",
       "      <th>support</th>\n",
       "      <td>0.673799</td>\n",
       "      <td>0.721714</td>\n",
       "      <td>3.783751</td>\n",
       "      <td>199.140980</td>\n",
       "      <td>3.213859</td>\n",
       "      <td>0.187575</td>\n",
       "      <td>0.010155</td>\n",
       "    </tr>\n",
       "    <tr>\n",
       "      <th>technical</th>\n",
       "      <td>0.668319</td>\n",
       "      <td>0.716609</td>\n",
       "      <td>3.814632</td>\n",
       "      <td>198.471083</td>\n",
       "      <td>3.222442</td>\n",
       "      <td>0.172022</td>\n",
       "      <td>0.012358</td>\n",
       "    </tr>\n",
       "  </tbody>\n",
       "</table>\n",
       "</div>"
      ],
      "text/plain": [
       "             satisfaction_level  last_evaluation  number_project  \\\n",
       "dept                                                               \n",
       "IT                     0.677170         0.713050        3.756813   \n",
       "RandD                  0.653799         0.706081        3.822823   \n",
       "accounting             0.647211         0.726128        3.808171   \n",
       "hr                     0.666679         0.720802        3.702290   \n",
       "management             0.654861         0.723451        3.812616   \n",
       "marketing              0.669878         0.723282        3.720611   \n",
       "product_mng            0.658466         0.711435        3.795455   \n",
       "sales                  0.668548         0.709223        3.789187   \n",
       "support                0.673799         0.721714        3.783751   \n",
       "technical              0.668319         0.716609        3.814632   \n",
       "\n",
       "             average_montly_hours  time_spend_company  Work_accident  \\\n",
       "dept                                                                   \n",
       "IT                     198.886792            3.356394       0.162474   \n",
       "RandD                  198.951952            3.252252       0.186186   \n",
       "accounting             199.037300            3.424512       0.154529   \n",
       "hr                     199.250000            3.192748       0.156489   \n",
       "management             200.233766            4.395176       0.181818   \n",
       "marketing              198.888550            3.480916       0.195420   \n",
       "product_mng            197.765625            3.330966       0.174716   \n",
       "sales                  199.571657            3.443698       0.173065   \n",
       "support                199.140980            3.213859       0.187575   \n",
       "technical              198.471083            3.222442       0.172022   \n",
       "\n",
       "             promotion_last_5years  \n",
       "dept                                \n",
       "IT                        0.000000  \n",
       "RandD                     0.040541  \n",
       "accounting                0.024867  \n",
       "hr                        0.028626  \n",
       "management                0.122449  \n",
       "marketing                 0.065649  \n",
       "product_mng               0.000000  \n",
       "sales                     0.029750  \n",
       "support                   0.010155  \n",
       "technical                 0.012358  "
      ]
     },
     "execution_count": 10,
     "metadata": {},
     "output_type": "execute_result"
    }
   ],
   "source": [
    "print('\\n Mean value of each column by department for existing employees\\n')\n",
    "existing_employees1.groupby('dept').mean()"
   ]
  },
  {
   "cell_type": "code",
   "execution_count": 11,
   "metadata": {
    "collapsed": false
   },
   "outputs": [
    {
     "name": "stdout",
     "output_type": "stream",
     "text": [
      "\n",
      "Salary range of employees who left\n"
     ]
    },
    {
     "data": {
      "text/plain": [
       "low       2172\n",
       "medium    1317\n",
       "high        82\n",
       "Name: salary, dtype: int64"
      ]
     },
     "execution_count": 11,
     "metadata": {},
     "output_type": "execute_result"
    }
   ],
   "source": [
    "salary = employees_left['salary']\n",
    "print('\\nSalary range of employees who left')\n",
    "salary.value_counts()"
   ]
  },
  {
   "cell_type": "code",
   "execution_count": 12,
   "metadata": {
    "collapsed": false
   },
   "outputs": [
    {
     "name": "stdout",
     "output_type": "stream",
     "text": [
      "\n",
      " Mean value of each column by salary for employees who left\n",
      "\n"
     ]
    },
    {
     "data": {
      "text/html": [
       "<div>\n",
       "<style scoped>\n",
       "    .dataframe tbody tr th:only-of-type {\n",
       "        vertical-align: middle;\n",
       "    }\n",
       "\n",
       "    .dataframe tbody tr th {\n",
       "        vertical-align: top;\n",
       "    }\n",
       "\n",
       "    .dataframe thead th {\n",
       "        text-align: right;\n",
       "    }\n",
       "</style>\n",
       "<table border=\"1\" class=\"dataframe\">\n",
       "  <thead>\n",
       "    <tr style=\"text-align: right;\">\n",
       "      <th></th>\n",
       "      <th>satisfaction_level</th>\n",
       "      <th>last_evaluation</th>\n",
       "      <th>number_project</th>\n",
       "      <th>average_montly_hours</th>\n",
       "      <th>time_spend_company</th>\n",
       "      <th>Work_accident</th>\n",
       "      <th>promotion_last_5years</th>\n",
       "    </tr>\n",
       "    <tr>\n",
       "      <th>salary</th>\n",
       "      <th></th>\n",
       "      <th></th>\n",
       "      <th></th>\n",
       "      <th></th>\n",
       "      <th></th>\n",
       "      <th></th>\n",
       "      <th></th>\n",
       "    </tr>\n",
       "  </thead>\n",
       "  <tbody>\n",
       "    <tr>\n",
       "      <th>high</th>\n",
       "      <td>0.434512</td>\n",
       "      <td>0.644024</td>\n",
       "      <td>3.451220</td>\n",
       "      <td>193.097561</td>\n",
       "      <td>3.682927</td>\n",
       "      <td>0.000000</td>\n",
       "      <td>0.000000</td>\n",
       "    </tr>\n",
       "    <tr>\n",
       "      <th>low</th>\n",
       "      <td>0.441248</td>\n",
       "      <td>0.716994</td>\n",
       "      <td>3.836096</td>\n",
       "      <td>206.631215</td>\n",
       "      <td>3.874770</td>\n",
       "      <td>0.043738</td>\n",
       "      <td>0.006446</td>\n",
       "    </tr>\n",
       "    <tr>\n",
       "      <th>medium</th>\n",
       "      <td>0.438550</td>\n",
       "      <td>0.724571</td>\n",
       "      <td>3.912680</td>\n",
       "      <td>209.610478</td>\n",
       "      <td>3.891420</td>\n",
       "      <td>0.056188</td>\n",
       "      <td>0.003797</td>\n",
       "    </tr>\n",
       "  </tbody>\n",
       "</table>\n",
       "</div>"
      ],
      "text/plain": [
       "        satisfaction_level  last_evaluation  number_project  \\\n",
       "salary                                                        \n",
       "high              0.434512         0.644024        3.451220   \n",
       "low               0.441248         0.716994        3.836096   \n",
       "medium            0.438550         0.724571        3.912680   \n",
       "\n",
       "        average_montly_hours  time_spend_company  Work_accident  \\\n",
       "salary                                                            \n",
       "high              193.097561            3.682927       0.000000   \n",
       "low               206.631215            3.874770       0.043738   \n",
       "medium            209.610478            3.891420       0.056188   \n",
       "\n",
       "        promotion_last_5years  \n",
       "salary                         \n",
       "high                 0.000000  \n",
       "low                  0.006446  \n",
       "medium               0.003797  "
      ]
     },
     "execution_count": 12,
     "metadata": {},
     "output_type": "execute_result"
    }
   ],
   "source": [
    "print('\\n Mean value of each column by salary for employees who left\\n')\n",
    "employees_left1.groupby('salary').mean()"
   ]
  },
  {
   "cell_type": "code",
   "execution_count": 13,
   "metadata": {
    "collapsed": false
   },
   "outputs": [
    {
     "name": "stdout",
     "output_type": "stream",
     "text": [
      "\n",
      "Salary range of existing employees\n"
     ]
    },
    {
     "data": {
      "text/plain": [
       "low       5144\n",
       "medium    5129\n",
       "high      1155\n",
       "Name: salary, dtype: int64"
      ]
     },
     "execution_count": 13,
     "metadata": {},
     "output_type": "execute_result"
    }
   ],
   "source": [
    "salary = existing_employees['salary']\n",
    "print('\\nSalary range of existing employees')\n",
    "salary.value_counts()"
   ]
  },
  {
   "cell_type": "code",
   "execution_count": 14,
   "metadata": {
    "collapsed": false
   },
   "outputs": [
    {
     "name": "stdout",
     "output_type": "stream",
     "text": [
      "\n",
      " Mean value of each column by salary for existing employees\n",
      "\n"
     ]
    },
    {
     "data": {
      "text/html": [
       "<div>\n",
       "<style scoped>\n",
       "    .dataframe tbody tr th:only-of-type {\n",
       "        vertical-align: middle;\n",
       "    }\n",
       "\n",
       "    .dataframe tbody tr th {\n",
       "        vertical-align: top;\n",
       "    }\n",
       "\n",
       "    .dataframe thead th {\n",
       "        text-align: right;\n",
       "    }\n",
       "</style>\n",
       "<table border=\"1\" class=\"dataframe\">\n",
       "  <thead>\n",
       "    <tr style=\"text-align: right;\">\n",
       "      <th></th>\n",
       "      <th>satisfaction_level</th>\n",
       "      <th>last_evaluation</th>\n",
       "      <th>number_project</th>\n",
       "      <th>average_montly_hours</th>\n",
       "      <th>time_spend_company</th>\n",
       "      <th>Work_accident</th>\n",
       "      <th>promotion_last_5years</th>\n",
       "    </tr>\n",
       "    <tr>\n",
       "      <th>salary</th>\n",
       "      <th></th>\n",
       "      <th></th>\n",
       "      <th></th>\n",
       "      <th></th>\n",
       "      <th></th>\n",
       "      <th></th>\n",
       "      <th></th>\n",
       "    </tr>\n",
       "  </thead>\n",
       "  <tbody>\n",
       "    <tr>\n",
       "      <th>high</th>\n",
       "      <td>0.651879</td>\n",
       "      <td>0.708606</td>\n",
       "      <td>3.789610</td>\n",
       "      <td>200.348052</td>\n",
       "      <td>3.693506</td>\n",
       "      <td>0.166234</td>\n",
       "      <td>0.062338</td>\n",
       "    </tr>\n",
       "    <tr>\n",
       "      <th>low</th>\n",
       "      <td>0.668103</td>\n",
       "      <td>0.717028</td>\n",
       "      <td>3.784603</td>\n",
       "      <td>198.617418</td>\n",
       "      <td>3.253888</td>\n",
       "      <td>0.183709</td>\n",
       "      <td>0.010109</td>\n",
       "    </tr>\n",
       "    <tr>\n",
       "      <th>medium</th>\n",
       "      <td>0.668875</td>\n",
       "      <td>0.715461</td>\n",
       "      <td>3.788068</td>\n",
       "      <td>199.214272</td>\n",
       "      <td>3.435952</td>\n",
       "      <td>0.168259</td>\n",
       "      <td>0.034315</td>\n",
       "    </tr>\n",
       "  </tbody>\n",
       "</table>\n",
       "</div>"
      ],
      "text/plain": [
       "        satisfaction_level  last_evaluation  number_project  \\\n",
       "salary                                                        \n",
       "high              0.651879         0.708606        3.789610   \n",
       "low               0.668103         0.717028        3.784603   \n",
       "medium            0.668875         0.715461        3.788068   \n",
       "\n",
       "        average_montly_hours  time_spend_company  Work_accident  \\\n",
       "salary                                                            \n",
       "high              200.348052            3.693506       0.166234   \n",
       "low               198.617418            3.253888       0.183709   \n",
       "medium            199.214272            3.435952       0.168259   \n",
       "\n",
       "        promotion_last_5years  \n",
       "salary                         \n",
       "high                 0.062338  \n",
       "low                  0.010109  \n",
       "medium               0.034315  "
      ]
     },
     "execution_count": 14,
     "metadata": {},
     "output_type": "execute_result"
    }
   ],
   "source": [
    "print('\\n Mean value of each column by salary for existing employees\\n')\n",
    "existing_employees1.groupby('salary').mean()"
   ]
  },
  {
   "cell_type": "markdown",
   "metadata": {},
   "source": [
    "## Visualisation"
   ]
  },
  {
   "cell_type": "markdown",
   "metadata": {},
   "source": [
    "### Visualisaton for employees who left"
   ]
  },
  {
   "cell_type": "code",
   "execution_count": 15,
   "metadata": {
    "collapsed": false
   },
   "outputs": [
    {
     "name": "stdout",
     "output_type": "stream",
     "text": [
      "\n",
      "Visualisation for numeric features\n",
      "\n"
     ]
    },
    {
     "data": {
      "image/png": "[encoded data removed]",
      "text/plain": [
       "<Figure size 1440x1440 with 9 Axes>"
      ]
     },
     "metadata": {},
     "output_type": "display_data"
    }
   ],
   "source": [
    "print('\\nVisualisation for numeric features\\n')\n",
    "employees_left1.hist(figsize=(20, 20))\n",
    "plt.savefig('employees_left_vis')\n",
    "plt.show()"
   ]
  },
  {
   "cell_type": "code",
   "execution_count": 16,
   "metadata": {
    "collapsed": false
   },
   "outputs": [
    {
     "name": "stdout",
     "output_type": "stream",
     "text": [
      "\n",
      "Visualistion of departments\n"
     ]
    },
    {
     "data": {
      "image/png": "[encoded data removed]",
      "text/plain": [
       "<Figure size 864x576 with 1 Axes>"
      ]
     },
     "metadata": {},
     "output_type": "display_data"
    }
   ],
   "source": [
    "print('\\nVisualistion of departments')\n",
    "department = employees_left['dept'].value_counts()\n",
    "x = department.index.to_list()\n",
    "y = department.to_list()\n",
    "plt.figure(figsize=(12,8))\n",
    "plt.title('Department of employees who left')\n",
    "plt.xlabel('Department')\n",
    "plt.ylabel('Employee count')\n",
    "plt.bar(x, y)\n",
    "plt.savefig('employees_left_department')\n",
    "plt.show()"
   ]
  },
  {
   "cell_type": "code",
   "execution_count": 17,
   "metadata": {
    "collapsed": false
   },
   "outputs": [
    {
     "name": "stdout",
     "output_type": "stream",
     "text": [
      "\n",
      "Visualistion of salary\n",
      "\n"
     ]
    },
    {
     "data": {
      "image/png": "[encoded data removed]",
      "text/plain": [
       "<Figure size 504x360 with 1 Axes>"
      ]
     },
     "metadata": {},
     "output_type": "display_data"
    }
   ],
   "source": [
    "print('\\nVisualistion of salary\\n')\n",
    "salary = employees_left['salary'].value_counts()\n",
    "x = salary.index.to_list()\n",
    "y = salary.to_list()\n",
    "plt.figure(figsize=(7, 5))\n",
    "plt.title('Salary of employees who left')\n",
    "plt.xlabel('salary')\n",
    "plt.ylabel('Employee count')\n",
    "plt.bar(x, y)\n",
    "plt.savefig('employees_left_salary')\n",
    "plt.show()"
   ]
  },
  {
   "cell_type": "markdown",
   "metadata": {},
   "source": [
    "### Visualisaton for existing employees"
   ]
  },
  {
   "cell_type": "code",
   "execution_count": 18,
   "metadata": {
    "collapsed": false
   },
   "outputs": [
    {
     "name": "stdout",
     "output_type": "stream",
     "text": [
      "\n",
      "Visualisation for numeric features\n",
      "\n"
     ]
    },
    {
     "data": {
      "image/png": "[encoded data removed]",
      "text/plain": [
       "<Figure size 1440x1440 with 9 Axes>"
      ]
     },
     "metadata": {},
     "output_type": "display_data"
    }
   ],
   "source": [
    "print('\\nVisualisation for numeric features\\n')\n",
    "existing_employees1.hist(figsize=(20, 20))\n",
    "plt.savefig('existing_employees_vis')\n",
    "plt.show()"
   ]
  },
  {
   "cell_type": "code",
   "execution_count": 19,
   "metadata": {
    "collapsed": false
   },
   "outputs": [
    {
     "name": "stdout",
     "output_type": "stream",
     "text": [
      "\n",
      "Visualistion of departments\n"
     ]
    },
    {
     "data": {
      "image/png": "[encoded data removed]",
      "text/plain": [
       "<Figure size 864x576 with 1 Axes>"
      ]
     },
     "metadata": {},
     "output_type": "display_data"
    }
   ],
   "source": [
    "print('\\nVisualistion of departments')\n",
    "department = existing_employees['dept'].value_counts()\n",
    "x = department.index.to_list()\n",
    "y = department.to_list()\n",
    "plt.figure(figsize=(12,8))\n",
    "plt.title('Department of existing employees')\n",
    "plt.xlabel('Department')\n",
    "plt.ylabel('Employee count')\n",
    "plt.bar(x, y)\n",
    "plt.savefig('existing_employees_department')\n",
    "plt.show()"
   ]
  },
  {
   "cell_type": "code",
   "execution_count": 20,
   "metadata": {
    "collapsed": false
   },
   "outputs": [
    {
     "name": "stdout",
     "output_type": "stream",
     "text": [
      "\n",
      "Visualistion of salary\n",
      "\n"
     ]
    },
    {
     "data": {
      "image/png": "[encoded data removed]",
      "text/plain": [
       "<Figure size 504x360 with 1 Axes>"
      ]
     },
     "metadata": {},
     "output_type": "display_data"
    }
   ],
   "source": [
    "print('\\nVisualistion of salary\\n')\n",
    "salary = existing_employees['salary'].value_counts()\n",
    "x = salary.index.to_list()\n",
    "y = salary.to_list()\n",
    "plt.figure(figsize=(7, 5))\n",
    "plt.title('Salary of existing employees')\n",
    "plt.xlabel('salary')\n",
    "plt.ylabel('Employee count')\n",
    "plt.bar(x, y)\n",
    "plt.savefig('existing_employees_salary')\n",
    "plt.show()"
   ]
  },
  {
   "cell_type": "markdown",
   "metadata": {},
   "source": [
    "## Comparison of data analysis/visualisation of existing employees and employees who left"
   ]
  },
  {
   "cell_type": "markdown",
   "metadata": {},
   "source": [
    "## Statistics:\n",
    " * Existing employees have a higher average satisfaction level than those who left\n",
    " * Employees who have left have a higher mean average monthly hours than existing employees\n",
    " * Employees who have left has spent more time in the company on the average than existing employees\n",
    " * Existing employees have higher promotion_last_5_years mean value than employees who left\n",
    " "
   ]
  },
  {
   "cell_type": "markdown",
   "metadata": {},
   "source": [
    "## Analysis of departments of employees who left:\n",
    " * Employees who left in each department all have low satisfaction level (approximately 0.4)\n",
    " * Employees who left from all department have last_evalutation score close to 0.7\n",
    " * Employess from RandD, IT, and technical departments have higher number of projects on the average\n",
    " * Employees who left from RandD, management and technical departments have higher mean monthly hours\n",
    " * All employees who left from RandD,accounting, hr, marketing product management haven't had any promotion in 5 years\n"
   ]
  },
  {
   "cell_type": "markdown",
   "metadata": {},
   "source": [
    "## Analysis of departments of existing employees:\n",
    " * Existing employees from all departments have high satisfaction level (approximately 0.7)\n",
    " * They have evaluation score of approximately 0.7\n",
    " * They have all done 4 projects on the average\n",
    " * On the average, they have spent 3 years in the company"
   ]
  },
  {
   "cell_type": "markdown",
   "metadata": {},
   "source": [
    "# Insights and Observations"
   ]
  },
  {
   "cell_type": "markdown",
   "metadata": {},
   "source": [
    " * Salary is not a significant factor for employees leaving. Even though majority of the employees who left are low and medium salary earners, majority of the existing employees are also low and medium salary earners\n",
    " * Majority of existing employees have average monthly working hours between 150 and 300\n",
    " * Majority of employees who left have average monthly hours between 125 and 150, and between 225 and 300\n",
    " * Majority of employees who left 2 projects, and between 4 and 7 projects\n",
    " * Majority of existing employees have done 3 or 4 projects\n",
    " * Majority of existing employees have spent 2 to 3 years, while majority of those who left spent 3 years"
   ]
  },
  {
   "cell_type": "markdown",
   "metadata": {},
   "source": [
    "## Percentage of employees who left from each department"
   ]
  },
  {
   "cell_type": "markdown",
   "metadata": {},
   "source": [
    " * At first it seems sales, technical and support department are loosing a large number of their employees, but it only seems so because the overall population of sales, technical and support department is large\n",
    " * Analysis of data of existing employees shows that these three departments still have the highest population in the company\n",
    " \n",
    "Let us find out the department loosing the highest percentage of it's staff:"
   ]
  },
  {
   "cell_type": "code",
   "execution_count": 21,
   "metadata": {
    "collapsed": false
   },
   "outputs": [
    {
     "name": "stdout",
     "output_type": "stream",
     "text": [
      "\n",
      "Percentage of each departments employees who leftn\n"
     ]
    },
    {
     "data": {
      "text/plain": [
       "sales          24.49\n",
       "technical      25.62\n",
       "support        24.90\n",
       "IT             22.25\n",
       "hr             23.84\n",
       "accounting     23.78\n",
       "marketing      25.79\n",
       "product_mng    25.81\n",
       "RandD          16.37\n",
       "management     14.44\n",
       "dtype: float64"
      ]
     },
     "execution_count": 21,
     "metadata": {},
     "output_type": "execute_result"
    }
   ],
   "source": [
    "left = employees_left['dept'].value_counts()\n",
    "columns = left.index.to_list()\n",
    "left = left.to_list()\n",
    "total_employees_dept = existing_employees['dept'].append(employees_left['dept'], ignore_index=True)\n",
    "total_employees_dept = total_employees_dept.value_counts()\n",
    "total = total_employees_dept.to_list()\n",
    "percentage = []\n",
    "for i in range(10):\n",
    "    percent = round(((left[i]/total[i])*100),2)\n",
    "    percentage.append(percent)\n",
    "    \n",
    "dept_percentage = pd.Series(data=percentage, index=columns)\n",
    "print('\\nPercentage of each departments employees who leftn')\n",
    "dept_percentage"
   ]
  },
  {
   "cell_type": "code",
   "execution_count": 22,
   "metadata": {
    "collapsed": false
   },
   "outputs": [
    {
     "data": {
      "image/png": "[encoded data removed]",
      "text/plain": [
       "<Figure size 864x504 with 1 Axes>"
      ]
     },
     "metadata": {},
     "output_type": "display_data"
    }
   ],
   "source": [
    "x = columns\n",
    "y = percentage\n",
    "plt.figure(figsize=(12,7))\n",
    "plt.title('Percentage of employees who left from each department')\n",
    "plt.xlabel('department')\n",
    "plt.ylabel('percentage')\n",
    "plt.bar(x, y)\n",
    "plt.savefig('employees_left_dept_percentage')\n",
    "plt.show()"
   ]
  },
  {
   "cell_type": "markdown",
   "metadata": {},
   "source": [
    "* We can see from the graph above that marketing and product_mng departments have the highest percentage of their employees who left"
   ]
  },
  {
   "cell_type": "markdown",
   "metadata": {},
   "source": [
    "## Answers to the problem questions"
   ]
  },
  {
   "cell_type": "markdown",
   "metadata": {},
   "source": [
    "### What type of employees are leaving:\n",
    " * Employees who are leaving are employees with low satisfaction level, who have spent at least 3 years at the company and who have done 2, 4, or 5 projects\n",
    " \n",
    "### Employees prone to leave next:\n",
    " * Employees who are prone to leave next are:\n",
    " \n",
    "     accounting staffs: because they have the least average satisfaction level\n",
    "     \n",
    "     management, and product_mng staffs: because they have the highest percentage of employees leaving\n",
    "     "
   ]
  },
  {
   "cell_type": "markdown",
   "metadata": {},
   "source": [
    "##  Prediction of employees who will leave\n",
    "* To be able to predict the employees that will leave we need to develop a machine learning model\n",
    "* I would be building a random forest machine learning model"
   ]
  },
  {
   "cell_type": "markdown",
   "metadata": {},
   "source": [
    "## Random Forest Model"
   ]
  },
  {
   "cell_type": "code",
   "execution_count": 23,
   "metadata": {
    "collapsed": true
   },
   "outputs": [],
   "source": [
    "#import libraries\n",
    "from sklearn.model_selection import train_test_split\n",
    "from sklearn.model_selection import cross_val_score, KFold\n",
    "from sklearn.ensemble import RandomForestClassifier\n",
    "\n",
    "from sklearn.metrics import accuracy_score, classification_report, roc_auc_score, roc_curve, confusion_matrix"
   ]
  },
  {
   "cell_type": "markdown",
   "metadata": {},
   "source": [
    "I will combine the data from the two sheets and create a new column left, which will be the target variable\n",
    "\n",
    "The target variable will be binary. A value of 0 means the employee has not left, and a value of 1 means the employee has left"
   ]
  },
  {
   "cell_type": "code",
   "execution_count": 24,
   "metadata": {
    "collapsed": false
   },
   "outputs": [
    {
     "data": {
      "text/html": [
       "<div>\n",
       "<style scoped>\n",
       "    .dataframe tbody tr th:only-of-type {\n",
       "        vertical-align: middle;\n",
       "    }\n",
       "\n",
       "    .dataframe tbody tr th {\n",
       "        vertical-align: top;\n",
       "    }\n",
       "\n",
       "    .dataframe thead th {\n",
       "        text-align: right;\n",
       "    }\n",
       "</style>\n",
       "<table border=\"1\" class=\"dataframe\">\n",
       "  <thead>\n",
       "    <tr style=\"text-align: right;\">\n",
       "      <th></th>\n",
       "      <th>Emp ID</th>\n",
       "      <th>satisfaction_level</th>\n",
       "      <th>last_evaluation</th>\n",
       "      <th>number_project</th>\n",
       "      <th>average_montly_hours</th>\n",
       "      <th>time_spend_company</th>\n",
       "      <th>Work_accident</th>\n",
       "      <th>promotion_last_5years</th>\n",
       "      <th>dept</th>\n",
       "      <th>salary</th>\n",
       "      <th>left</th>\n",
       "    </tr>\n",
       "  </thead>\n",
       "  <tbody>\n",
       "    <tr>\n",
       "      <th>0</th>\n",
       "      <td>1</td>\n",
       "      <td>0.38</td>\n",
       "      <td>0.53</td>\n",
       "      <td>2</td>\n",
       "      <td>157</td>\n",
       "      <td>3</td>\n",
       "      <td>0</td>\n",
       "      <td>0</td>\n",
       "      <td>sales</td>\n",
       "      <td>low</td>\n",
       "      <td>1</td>\n",
       "    </tr>\n",
       "    <tr>\n",
       "      <th>1</th>\n",
       "      <td>2</td>\n",
       "      <td>0.80</td>\n",
       "      <td>0.86</td>\n",
       "      <td>5</td>\n",
       "      <td>262</td>\n",
       "      <td>6</td>\n",
       "      <td>0</td>\n",
       "      <td>0</td>\n",
       "      <td>sales</td>\n",
       "      <td>medium</td>\n",
       "      <td>1</td>\n",
       "    </tr>\n",
       "    <tr>\n",
       "      <th>2</th>\n",
       "      <td>3</td>\n",
       "      <td>0.11</td>\n",
       "      <td>0.88</td>\n",
       "      <td>7</td>\n",
       "      <td>272</td>\n",
       "      <td>4</td>\n",
       "      <td>0</td>\n",
       "      <td>0</td>\n",
       "      <td>sales</td>\n",
       "      <td>medium</td>\n",
       "      <td>1</td>\n",
       "    </tr>\n",
       "    <tr>\n",
       "      <th>3</th>\n",
       "      <td>4</td>\n",
       "      <td>0.72</td>\n",
       "      <td>0.87</td>\n",
       "      <td>5</td>\n",
       "      <td>223</td>\n",
       "      <td>5</td>\n",
       "      <td>0</td>\n",
       "      <td>0</td>\n",
       "      <td>sales</td>\n",
       "      <td>low</td>\n",
       "      <td>1</td>\n",
       "    </tr>\n",
       "    <tr>\n",
       "      <th>4</th>\n",
       "      <td>5</td>\n",
       "      <td>0.37</td>\n",
       "      <td>0.52</td>\n",
       "      <td>2</td>\n",
       "      <td>159</td>\n",
       "      <td>3</td>\n",
       "      <td>0</td>\n",
       "      <td>0</td>\n",
       "      <td>sales</td>\n",
       "      <td>low</td>\n",
       "      <td>1</td>\n",
       "    </tr>\n",
       "  </tbody>\n",
       "</table>\n",
       "</div>"
      ],
      "text/plain": [
       "   Emp ID  satisfaction_level  last_evaluation  number_project  \\\n",
       "0       1                0.38             0.53               2   \n",
       "1       2                0.80             0.86               5   \n",
       "2       3                0.11             0.88               7   \n",
       "3       4                0.72             0.87               5   \n",
       "4       5                0.37             0.52               2   \n",
       "\n",
       "   average_montly_hours  time_spend_company  Work_accident  \\\n",
       "0                   157                   3              0   \n",
       "1                   262                   6              0   \n",
       "2                   272                   4              0   \n",
       "3                   223                   5              0   \n",
       "4                   159                   3              0   \n",
       "\n",
       "   promotion_last_5years   dept  salary  left  \n",
       "0                      0  sales     low     1  \n",
       "1                      0  sales  medium     1  \n",
       "2                      0  sales  medium     1  \n",
       "3                      0  sales     low     1  \n",
       "4                      0  sales     low     1  "
      ]
     },
     "execution_count": 24,
     "metadata": {},
     "output_type": "execute_result"
    }
   ],
   "source": [
    "employees_data =  pd.ExcelFile('employees_data.xlsx')\n",
    "\n",
    "existing_employees = pd.read_excel(employees_data, 'Existing employees')\n",
    "left = np.zeros(11428, dtype=int)\n",
    "existing_employees['left'] = left\n",
    "                  \n",
    "employees_left = pd.read_excel(employees_data, 'Employees who have left')\n",
    "left = np.ones(3571, dtype=int)\n",
    "employees_left['left'] = left\n",
    "\n",
    "comb_data = employees_left.append(existing_employees, ignore_index=True)\n",
    "comb_data.head()"
   ]
  },
  {
   "cell_type": "markdown",
   "metadata": {},
   "source": [
    "I will drop the ID column as it is not neccessay\n",
    "\n",
    "I will assign the column 'left' as the target variable y, and others as the independent variables x"
   ]
  },
  {
   "cell_type": "code",
   "execution_count": 25,
   "metadata": {
    "collapsed": true
   },
   "outputs": [],
   "source": [
    "comb_data.drop(columns=['Emp ID'])\n",
    "x = comb_data.iloc[:, 1:-1]\n",
    "y = np.array(comb_data['left'].values, dtype=np.float)"
   ]
  },
  {
   "cell_type": "code",
   "execution_count": 26,
   "metadata": {
    "collapsed": false,
    "scrolled": true
   },
   "outputs": [
    {
     "name": "stdout",
     "output_type": "stream",
     "text": [
      "(14999, 9)\n"
     ]
    },
    {
     "data": {
      "text/html": [
       "<div>\n",
       "<style scoped>\n",
       "    .dataframe tbody tr th:only-of-type {\n",
       "        vertical-align: middle;\n",
       "    }\n",
       "\n",
       "    .dataframe tbody tr th {\n",
       "        vertical-align: top;\n",
       "    }\n",
       "\n",
       "    .dataframe thead th {\n",
       "        text-align: right;\n",
       "    }\n",
       "</style>\n",
       "<table border=\"1\" class=\"dataframe\">\n",
       "  <thead>\n",
       "    <tr style=\"text-align: right;\">\n",
       "      <th></th>\n",
       "      <th>satisfaction_level</th>\n",
       "      <th>last_evaluation</th>\n",
       "      <th>number_project</th>\n",
       "      <th>average_montly_hours</th>\n",
       "      <th>time_spend_company</th>\n",
       "      <th>Work_accident</th>\n",
       "      <th>promotion_last_5years</th>\n",
       "      <th>dept</th>\n",
       "      <th>salary</th>\n",
       "    </tr>\n",
       "  </thead>\n",
       "  <tbody>\n",
       "    <tr>\n",
       "      <th>0</th>\n",
       "      <td>0.38</td>\n",
       "      <td>0.53</td>\n",
       "      <td>2</td>\n",
       "      <td>157</td>\n",
       "      <td>3</td>\n",
       "      <td>0</td>\n",
       "      <td>0</td>\n",
       "      <td>sales</td>\n",
       "      <td>low</td>\n",
       "    </tr>\n",
       "    <tr>\n",
       "      <th>1</th>\n",
       "      <td>0.80</td>\n",
       "      <td>0.86</td>\n",
       "      <td>5</td>\n",
       "      <td>262</td>\n",
       "      <td>6</td>\n",
       "      <td>0</td>\n",
       "      <td>0</td>\n",
       "      <td>sales</td>\n",
       "      <td>medium</td>\n",
       "    </tr>\n",
       "    <tr>\n",
       "      <th>2</th>\n",
       "      <td>0.11</td>\n",
       "      <td>0.88</td>\n",
       "      <td>7</td>\n",
       "      <td>272</td>\n",
       "      <td>4</td>\n",
       "      <td>0</td>\n",
       "      <td>0</td>\n",
       "      <td>sales</td>\n",
       "      <td>medium</td>\n",
       "    </tr>\n",
       "    <tr>\n",
       "      <th>3</th>\n",
       "      <td>0.72</td>\n",
       "      <td>0.87</td>\n",
       "      <td>5</td>\n",
       "      <td>223</td>\n",
       "      <td>5</td>\n",
       "      <td>0</td>\n",
       "      <td>0</td>\n",
       "      <td>sales</td>\n",
       "      <td>low</td>\n",
       "    </tr>\n",
       "    <tr>\n",
       "      <th>4</th>\n",
       "      <td>0.37</td>\n",
       "      <td>0.52</td>\n",
       "      <td>2</td>\n",
       "      <td>159</td>\n",
       "      <td>3</td>\n",
       "      <td>0</td>\n",
       "      <td>0</td>\n",
       "      <td>sales</td>\n",
       "      <td>low</td>\n",
       "    </tr>\n",
       "  </tbody>\n",
       "</table>\n",
       "</div>"
      ],
      "text/plain": [
       "   satisfaction_level  last_evaluation  number_project  average_montly_hours  \\\n",
       "0                0.38             0.53               2                   157   \n",
       "1                0.80             0.86               5                   262   \n",
       "2                0.11             0.88               7                   272   \n",
       "3                0.72             0.87               5                   223   \n",
       "4                0.37             0.52               2                   159   \n",
       "\n",
       "   time_spend_company  Work_accident  promotion_last_5years   dept  salary  \n",
       "0                   3              0                      0  sales     low  \n",
       "1                   6              0                      0  sales  medium  \n",
       "2                   4              0                      0  sales  medium  \n",
       "3                   5              0                      0  sales     low  \n",
       "4                   3              0                      0  sales     low  "
      ]
     },
     "execution_count": 26,
     "metadata": {},
     "output_type": "execute_result"
    }
   ],
   "source": [
    "print(x.shape)\n",
    "x.head()"
   ]
  },
  {
   "cell_type": "code",
   "execution_count": 27,
   "metadata": {
    "collapsed": false
   },
   "outputs": [
    {
     "data": {
      "text/plain": [
       "array([1., 1., 1., ..., 0., 0., 0.])"
      ]
     },
     "execution_count": 27,
     "metadata": {},
     "output_type": "execute_result"
    }
   ],
   "source": [
    "y"
   ]
  },
  {
   "cell_type": "markdown",
   "metadata": {},
   "source": [
    "I will create dummy variabes for categorical columns (salary and dept) and drop the original colummns"
   ]
  },
  {
   "cell_type": "code",
   "execution_count": 28,
   "metadata": {
    "collapsed": true
   },
   "outputs": [],
   "source": [
    "dummy_salary = pd.get_dummies(x['salary'], prefix='salary')\n",
    "dummy_dept = pd.get_dummies(x['dept'], prefix='dept')\n",
    "\n",
    "x = x.drop(columns=['dept', 'salary'])\n",
    "\n",
    "x = x.join(dummy_salary)\n",
    "x = x.join(dummy_dept)"
   ]
  },
  {
   "cell_type": "code",
   "execution_count": 29,
   "metadata": {
    "collapsed": false
   },
   "outputs": [
    {
     "name": "stdout",
     "output_type": "stream",
     "text": [
      "(14999, 20)\n"
     ]
    },
    {
     "data": {
      "text/html": [
       "<div>\n",
       "<style scoped>\n",
       "    .dataframe tbody tr th:only-of-type {\n",
       "        vertical-align: middle;\n",
       "    }\n",
       "\n",
       "    .dataframe tbody tr th {\n",
       "        vertical-align: top;\n",
       "    }\n",
       "\n",
       "    .dataframe thead th {\n",
       "        text-align: right;\n",
       "    }\n",
       "</style>\n",
       "<table border=\"1\" class=\"dataframe\">\n",
       "  <thead>\n",
       "    <tr style=\"text-align: right;\">\n",
       "      <th></th>\n",
       "      <th>satisfaction_level</th>\n",
       "      <th>last_evaluation</th>\n",
       "      <th>number_project</th>\n",
       "      <th>average_montly_hours</th>\n",
       "      <th>time_spend_company</th>\n",
       "      <th>Work_accident</th>\n",
       "      <th>promotion_last_5years</th>\n",
       "      <th>salary_high</th>\n",
       "      <th>salary_low</th>\n",
       "      <th>salary_medium</th>\n",
       "      <th>dept_IT</th>\n",
       "      <th>dept_RandD</th>\n",
       "      <th>dept_accounting</th>\n",
       "      <th>dept_hr</th>\n",
       "      <th>dept_management</th>\n",
       "      <th>dept_marketing</th>\n",
       "      <th>dept_product_mng</th>\n",
       "      <th>dept_sales</th>\n",
       "      <th>dept_support</th>\n",
       "      <th>dept_technical</th>\n",
       "    </tr>\n",
       "  </thead>\n",
       "  <tbody>\n",
       "    <tr>\n",
       "      <th>0</th>\n",
       "      <td>0.38</td>\n",
       "      <td>0.53</td>\n",
       "      <td>2</td>\n",
       "      <td>157</td>\n",
       "      <td>3</td>\n",
       "      <td>0</td>\n",
       "      <td>0</td>\n",
       "      <td>0</td>\n",
       "      <td>1</td>\n",
       "      <td>0</td>\n",
       "      <td>0</td>\n",
       "      <td>0</td>\n",
       "      <td>0</td>\n",
       "      <td>0</td>\n",
       "      <td>0</td>\n",
       "      <td>0</td>\n",
       "      <td>0</td>\n",
       "      <td>1</td>\n",
       "      <td>0</td>\n",
       "      <td>0</td>\n",
       "    </tr>\n",
       "    <tr>\n",
       "      <th>1</th>\n",
       "      <td>0.80</td>\n",
       "      <td>0.86</td>\n",
       "      <td>5</td>\n",
       "      <td>262</td>\n",
       "      <td>6</td>\n",
       "      <td>0</td>\n",
       "      <td>0</td>\n",
       "      <td>0</td>\n",
       "      <td>0</td>\n",
       "      <td>1</td>\n",
       "      <td>0</td>\n",
       "      <td>0</td>\n",
       "      <td>0</td>\n",
       "      <td>0</td>\n",
       "      <td>0</td>\n",
       "      <td>0</td>\n",
       "      <td>0</td>\n",
       "      <td>1</td>\n",
       "      <td>0</td>\n",
       "      <td>0</td>\n",
       "    </tr>\n",
       "    <tr>\n",
       "      <th>2</th>\n",
       "      <td>0.11</td>\n",
       "      <td>0.88</td>\n",
       "      <td>7</td>\n",
       "      <td>272</td>\n",
       "      <td>4</td>\n",
       "      <td>0</td>\n",
       "      <td>0</td>\n",
       "      <td>0</td>\n",
       "      <td>0</td>\n",
       "      <td>1</td>\n",
       "      <td>0</td>\n",
       "      <td>0</td>\n",
       "      <td>0</td>\n",
       "      <td>0</td>\n",
       "      <td>0</td>\n",
       "      <td>0</td>\n",
       "      <td>0</td>\n",
       "      <td>1</td>\n",
       "      <td>0</td>\n",
       "      <td>0</td>\n",
       "    </tr>\n",
       "    <tr>\n",
       "      <th>3</th>\n",
       "      <td>0.72</td>\n",
       "      <td>0.87</td>\n",
       "      <td>5</td>\n",
       "      <td>223</td>\n",
       "      <td>5</td>\n",
       "      <td>0</td>\n",
       "      <td>0</td>\n",
       "      <td>0</td>\n",
       "      <td>1</td>\n",
       "      <td>0</td>\n",
       "      <td>0</td>\n",
       "      <td>0</td>\n",
       "      <td>0</td>\n",
       "      <td>0</td>\n",
       "      <td>0</td>\n",
       "      <td>0</td>\n",
       "      <td>0</td>\n",
       "      <td>1</td>\n",
       "      <td>0</td>\n",
       "      <td>0</td>\n",
       "    </tr>\n",
       "    <tr>\n",
       "      <th>4</th>\n",
       "      <td>0.37</td>\n",
       "      <td>0.52</td>\n",
       "      <td>2</td>\n",
       "      <td>159</td>\n",
       "      <td>3</td>\n",
       "      <td>0</td>\n",
       "      <td>0</td>\n",
       "      <td>0</td>\n",
       "      <td>1</td>\n",
       "      <td>0</td>\n",
       "      <td>0</td>\n",
       "      <td>0</td>\n",
       "      <td>0</td>\n",
       "      <td>0</td>\n",
       "      <td>0</td>\n",
       "      <td>0</td>\n",
       "      <td>0</td>\n",
       "      <td>1</td>\n",
       "      <td>0</td>\n",
       "      <td>0</td>\n",
       "    </tr>\n",
       "  </tbody>\n",
       "</table>\n",
       "</div>"
      ],
      "text/plain": [
       "   satisfaction_level  last_evaluation  number_project  average_montly_hours  \\\n",
       "0                0.38             0.53               2                   157   \n",
       "1                0.80             0.86               5                   262   \n",
       "2                0.11             0.88               7                   272   \n",
       "3                0.72             0.87               5                   223   \n",
       "4                0.37             0.52               2                   159   \n",
       "\n",
       "   time_spend_company  Work_accident  promotion_last_5years  salary_high  \\\n",
       "0                   3              0                      0            0   \n",
       "1                   6              0                      0            0   \n",
       "2                   4              0                      0            0   \n",
       "3                   5              0                      0            0   \n",
       "4                   3              0                      0            0   \n",
       "\n",
       "   salary_low  salary_medium  dept_IT  dept_RandD  dept_accounting  dept_hr  \\\n",
       "0           1              0        0           0                0        0   \n",
       "1           0              1        0           0                0        0   \n",
       "2           0              1        0           0                0        0   \n",
       "3           1              0        0           0                0        0   \n",
       "4           1              0        0           0                0        0   \n",
       "\n",
       "   dept_management  dept_marketing  dept_product_mng  dept_sales  \\\n",
       "0                0               0                 0           1   \n",
       "1                0               0                 0           1   \n",
       "2                0               0                 0           1   \n",
       "3                0               0                 0           1   \n",
       "4                0               0                 0           1   \n",
       "\n",
       "   dept_support  dept_technical  \n",
       "0             0               0  \n",
       "1             0               0  \n",
       "2             0               0  \n",
       "3             0               0  \n",
       "4             0               0  "
      ]
     },
     "execution_count": 29,
     "metadata": {},
     "output_type": "execute_result"
    }
   ],
   "source": [
    "print(x.shape)\n",
    "x.head()"
   ]
  },
  {
   "cell_type": "markdown",
   "metadata": {},
   "source": [
    "Next, I will split the dataset into a 70% training set and a 30% testing set"
   ]
  },
  {
   "cell_type": "code",
   "execution_count": 30,
   "metadata": {
    "collapsed": true
   },
   "outputs": [],
   "source": [
    "x_train, x_test, y_train, y_test = train_test_split(x, y, test_size=0.3, random_state=3, stratify=y)"
   ]
  },
  {
   "cell_type": "markdown",
   "metadata": {},
   "source": [
    "Initialisation and fitting of the model"
   ]
  },
  {
   "cell_type": "code",
   "execution_count": 31,
   "metadata": {
    "collapsed": true
   },
   "outputs": [],
   "source": [
    "model = RandomForestClassifier()\n",
    "model = model.fit(x_train, y_train)"
   ]
  },
  {
   "cell_type": "markdown",
   "metadata": {},
   "source": [
    "## Evaluation of Model"
   ]
  },
  {
   "cell_type": "code",
   "execution_count": 32,
   "metadata": {
    "collapsed": false
   },
   "outputs": [
    {
     "name": "stdout",
     "output_type": "stream",
     "text": [
      "                  Classification Report \n",
      " -------------------------------------------------------\n",
      "              precision    recall  f1-score   support\n",
      "\n",
      "         0.0       0.99      1.00      0.99      3429\n",
      "         1.0       0.99      0.97      0.98      1071\n",
      "\n",
      "    accuracy                           0.99      4500\n",
      "   macro avg       0.99      0.99      0.99      4500\n",
      "weighted avg       0.99      0.99      0.99      4500\n",
      " \n",
      "\n",
      "Accuracy Score =  0.9913333333333333 \n",
      "\n",
      "ROC_AUC Score =  0.985645176705853\n"
     ]
    }
   ],
   "source": [
    "y_pred = model.predict(x_test)\n",
    "\n",
    "print('                  Classification Report', '\\n', '-'*55)\n",
    "print(classification_report(y_test, y_pred), '\\n')\n",
    "print('Accuracy Score = ', accuracy_score(y_test, y_pred), '\\n')\n",
    "print('ROC_AUC Score = ', roc_auc_score(y_test, y_pred))"
   ]
  },
  {
   "cell_type": "markdown",
   "metadata": {},
   "source": [
    "### ROC Curve"
   ]
  },
  {
   "cell_type": "code",
   "execution_count": 33,
   "metadata": {
    "collapsed": false
   },
   "outputs": [
    {
     "data": {
      "image/png": "[encoded data removed]",
      "text/plain": [
       "<Figure size 504x360 with 1 Axes>"
      ]
     },
     "metadata": {},
     "output_type": "display_data"
    }
   ],
   "source": [
    "roc_auc = roc_auc_score(y_test, y_pred)\n",
    "\n",
    "false_positive, true_positive, thresholds = roc_curve(y_test, model.predict_proba(x_test)[:,1])\n",
    "plt.figure(figsize=(7,5))\n",
    "plt.plot(false_positive, true_positive, label='Random Forest (area = %0.3f)' % roc_auc)\n",
    "plt.xlim([0.0, 1.0])\n",
    "plt.ylim([0.0, 1.05])\n",
    "plt.xlabel('False Positive')\n",
    "plt.ylabel('True Positive')\n",
    "plt.plot([0, 1], [0, 1],'r--')\n",
    "plt.title('Receiver operating characteristic')\n",
    "plt.legend(loc=\"lower right\")\n",
    "plt.savefig('roc_img')\n",
    "plt.show()"
   ]
  },
  {
   "cell_type": "markdown",
   "metadata": {},
   "source": [
    "### Confusion Matrix"
   ]
  },
  {
   "cell_type": "code",
   "execution_count": 34,
   "metadata": {
    "collapsed": false
   },
   "outputs": [
    {
     "name": "stderr",
     "output_type": "stream",
     "text": [
      "C:\\Users\\Olaitan\\Anaconda3\\lib\\site-packages\\pandas\\compat\\_optional.py:106: UserWarning: Pandas requires version '2.6.2' or newer of 'numexpr' (version '2.6.1' currently installed).\n",
      "  warnings.warn(msg, UserWarning)\n"
     ]
    },
    {
     "data": {
      "image/png": "[encoded data removed]",
      "text/plain": [
       "<Figure size 360x360 with 2 Axes>"
      ]
     },
     "metadata": {},
     "output_type": "display_data"
    }
   ],
   "source": [
    "model_matrix = confusion_matrix(y_pred, y_test, [1,0])\n",
    "plt.figure(figsize=(5,5))\n",
    "sn.heatmap(model_matrix, fmt='.2f', annot=True, xticklabels = [\"Left\", \"Existing\"] , yticklabels = [\"Left\", \"Existig\"] )\n",
    "plt.ylabel('Actual class')\n",
    "plt.xlabel('Predicted class')\n",
    "plt.title('Random Forest')\n",
    "plt.savefig('confusion_matrix_img')\n",
    "plt.show()"
   ]
  },
  {
   "cell_type": "markdown",
   "metadata": {},
   "source": [
    "From the above evaluation the model has a very good performance"
   ]
  },
  {
   "cell_type": "markdown",
   "metadata": {},
   "source": [
    "### Most significant factors affecting employee attrition, according to the model"
   ]
  },
  {
   "cell_type": "code",
   "execution_count": 35,
   "metadata": {
    "collapsed": false
   },
   "outputs": [
    {
     "data": {
      "image/png": "[encoded data removed]",
      "text/plain": [
       "<Figure size 1296x936 with 1 Axes>"
      ]
     },
     "metadata": {},
     "output_type": "display_data"
    }
   ],
   "source": [
    "importances = model.feature_importances_\n",
    "indices = np.argsort(importances)[::-1]\n",
    "feature_names = [x_train.columns[i] for i in indices]\n",
    "plt.figure(figsize=(18, 13))\n",
    "plt.title(\"Feature Importance\")\n",
    "plt.bar(range(x_train.shape[1]), importances[indices]) \n",
    "plt.xticks(range(x_train.shape[1]), feature_names, rotation=90)\n",
    "plt.savefig('feature_importance')\n",
    "plt.show()"
   ]
  },
  {
   "cell_type": "markdown",
   "metadata": {},
   "source": [
    "This is similar to the result obtained from the analysis"
   ]
  },
  {
   "cell_type": "markdown",
   "metadata": {},
   "source": [
    "## Predicting probabilities of employees leaving\n",
    "Instead of predicting whether an employee will leave or stay, we can predict the probability of employees leaving.\n",
    "\n",
    "Our target variable will therefore be a probalility value. This can be used to evaluate the employee that is most likely to leave"
   ]
  },
  {
   "cell_type": "code",
   "execution_count": 36,
   "metadata": {
    "collapsed": false
   },
   "outputs": [
    {
     "name": "stdout",
     "output_type": "stream",
     "text": [
      "\n",
      "Predicting Probabities: \n",
      "\n",
      "roc_auc_score score: 0.996\n"
     ]
    }
   ],
   "source": [
    "y_pred_prob = model.predict_proba(x_test)\n",
    "y_pred_prob = y_pred_prob[:, 1]\n",
    "roc_auc = roc_auc_score(y_test, y_pred_prob)\n",
    "print('\\nPredicting Probabities: \\n')\n",
    "print('roc_auc_score score: %.3f' % roc_auc)"
   ]
  },
  {
   "cell_type": "markdown",
   "metadata": {},
   "source": [
    "## Concusion"
   ]
  },
  {
   "cell_type": "markdown",
   "metadata": {},
   "source": [
    "I have been able to:\n",
    "\n",
    " * Analyse the dataset of the employees \n",
    " * Identify the type of employees leaving\n",
    " * Determine the employees prone to leaving next\n",
    " * Creae a model to predict the employee that is most likely to leave next"
   ]
  }
 ],
 "metadata": {
  "kernelspec": {
   "display_name": "Python 3",
   "language": "python",
   "name": "python3"
  },
  "language_info": {
   "codemirror_mode": {
    "name": "ipython",
    "version": 3
   },
   "file_extension": ".py",
   "mimetype": "text/x-python",
   "name": "python",
   "nbconvert_exporter": "python",
   "pygments_lexer": "ipython3",
   "version": "3.6.0"
  }
 },
 "nbformat": 4,
 "nbformat_minor": 2
}
